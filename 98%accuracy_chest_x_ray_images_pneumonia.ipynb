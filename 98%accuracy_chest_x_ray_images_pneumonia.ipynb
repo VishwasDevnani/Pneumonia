{
  "nbformat": 4,
  "nbformat_minor": 0,
  "metadata": {
    "kernelspec": {
      "language": "python",
      "display_name": "Python 3",
      "name": "python3"
    },
    "language_info": {
      "pygments_lexer": "ipython3",
      "nbconvert_exporter": "python",
      "version": "3.6.4",
      "file_extension": ".py",
      "codemirror_mode": {
        "name": "ipython",
        "version": 3
      },
      "name": "python",
      "mimetype": "text/x-python"
    },
    "colab": {
      "name": "96-accuracy-chest-x-ray-images-pneumonia.ipynb",
      "provenance": [],
      "collapsed_sections": [],
      "include_colab_link": true
    },
    "accelerator": "GPU"
  },
  "cells": [
    {
      "cell_type": "markdown",
      "metadata": {
        "id": "view-in-github",
        "colab_type": "text"
      },
      "source": [
        "<a href=\"https://colab.research.google.com/github/VishwasDevnani/Pneumonia/blob/main/98%25accuracy_chest_x_ray_images_pneumonia.ipynb\" target=\"_parent\"><img src=\"https://colab.research.google.com/assets/colab-badge.svg\" alt=\"Open In Colab\"/></a>"
      ]
    },
    {
      "cell_type": "code",
      "metadata": {
        "_uuid": "8f2839f25d086af736a60e9eeb907d3b93b6e0e5",
        "_cell_guid": "b1076dfc-b9ad-4769-8c92-a6c4dae69d19",
        "execution": {
          "iopub.status.busy": "2021-07-08T10:47:57.071363Z",
          "iopub.execute_input": "2021-07-08T10:47:57.071732Z",
          "iopub.status.idle": "2021-07-08T10:47:57.078061Z",
          "shell.execute_reply.started": "2021-07-08T10:47:57.071699Z",
          "shell.execute_reply": "2021-07-08T10:47:57.076938Z"
        },
        "trusted": true,
        "id": "LMLl9bnEVJRq"
      },
      "source": [
        "import pandas\n",
        "import os\n",
        "import glob\n",
        "import tensorflow as tf\n",
        "from tensorflow.keras.applications.resnet50 import ResNet50\n",
        "import numpy as np\n",
        "import matplotlib.pyplot as plt\n",
        "import pandas as pd\n",
        "from keras.preprocessing.image import ImageDataGenerator\n",
        "import keras\n",
        "import os\n",
        "from sklearn.metrics import classification_report, confusion_matrix\n",
        "import seaborn as sns\n",
        "import cv2\n",
        "from tensorflow.keras.layers import Dense, GlobalAveragePooling2D, Dropout\n",
        "from tensorflow.keras.models import Sequential\n",
        "\n",
        "import seaborn as sns\n",
        "import glob\n",
        "\n",
        "import shutil\n",
        "\n",
        "from shutil import unpack_archive\n",
        "from subprocess import check_output"
      ],
      "execution_count": 1,
      "outputs": []
    },
    {
      "cell_type": "code",
      "metadata": {
        "colab": {
          "base_uri": "https://localhost:8080/"
        },
        "id": "FsTRhlMjmnif",
        "outputId": "8abaaf45-12c4-4d2b-a13c-1313af996114"
      },
      "source": [
        "!nvidia-smi -L"
      ],
      "execution_count": 3,
      "outputs": [
        {
          "output_type": "stream",
          "text": [
            "GPU 0: Tesla T4 (UUID: GPU-b0c242cf-4c57-6825-58e8-f9b48a441473)\n"
          ],
          "name": "stdout"
        }
      ]
    },
    {
      "cell_type": "code",
      "metadata": {
        "colab": {
          "base_uri": "https://localhost:8080/"
        },
        "id": "B3q-XBkWXL6T",
        "outputId": "bdfd9d72-15ef-4ed8-8893-5d870e7881df"
      },
      "source": [
        "from google.colab import drive\n",
        "drive.mount('/content/gdrive')"
      ],
      "execution_count": 4,
      "outputs": [
        {
          "output_type": "stream",
          "text": [
            "Drive already mounted at /content/gdrive; to attempt to forcibly remount, call drive.mount(\"/content/gdrive\", force_remount=True).\n"
          ],
          "name": "stdout"
        }
      ]
    },
    {
      "cell_type": "code",
      "metadata": {
        "id": "N_5PgjmFYHhW"
      },
      "source": [
        "os.environ['KAGGLE_CONFIG_DIR'] = \"/content/gdrive/My Drive/Kaggle\""
      ],
      "execution_count": 5,
      "outputs": []
    },
    {
      "cell_type": "code",
      "metadata": {
        "colab": {
          "base_uri": "https://localhost:8080/"
        },
        "id": "IPD9LXDIYMNe",
        "outputId": "8028e231-57b6-4703-ae4a-6aeb0d001bfe"
      },
      "source": [
        "%cd /content/gdrive/My Drive/Kaggle"
      ],
      "execution_count": 6,
      "outputs": [
        {
          "output_type": "stream",
          "text": [
            "/content/gdrive/My Drive/Kaggle\n"
          ],
          "name": "stdout"
        }
      ]
    },
    {
      "cell_type": "code",
      "metadata": {
        "colab": {
          "base_uri": "https://localhost:8080/",
          "height": 35
        },
        "id": "eEjhfLJzY052",
        "outputId": "0499bee3-4147-4c82-9b1f-6f39fedf1d3a"
      },
      "source": [
        "pwd"
      ],
      "execution_count": 7,
      "outputs": [
        {
          "output_type": "execute_result",
          "data": {
            "application/vnd.google.colaboratory.intrinsic+json": {
              "type": "string"
            },
            "text/plain": [
              "'/content/gdrive/My Drive/Kaggle'"
            ]
          },
          "metadata": {
            "tags": []
          },
          "execution_count": 7
        }
      ]
    },
    {
      "cell_type": "code",
      "metadata": {
        "id": "ZIbMPfjJYZwM"
      },
      "source": [
        "# ! kaggle datasets download -d paultimothymooney/chest-xray-pneumonia"
      ],
      "execution_count": 8,
      "outputs": []
    },
    {
      "cell_type": "code",
      "metadata": {
        "id": "HxKtipKuZqaT"
      },
      "source": [
        "# !unzip \\*.zip  && rm *.zip"
      ],
      "execution_count": 9,
      "outputs": []
    },
    {
      "cell_type": "code",
      "metadata": {
        "execution": {
          "iopub.status.busy": "2021-07-08T09:29:59.381634Z",
          "iopub.execute_input": "2021-07-08T09:29:59.381931Z",
          "iopub.status.idle": "2021-07-08T09:29:59.388293Z",
          "shell.execute_reply.started": "2021-07-08T09:29:59.381901Z",
          "shell.execute_reply": "2021-07-08T09:29:59.387422Z"
        },
        "trusted": true,
        "id": "wydxFfeXVJRv"
      },
      "source": [
        "#main_path = \"../input/chest-xray-pneumonia/chest_xray/\"\n",
        "path = \"/content/gdrive/MyDrive/Kaggle/chest_xray/\""
      ],
      "execution_count": 10,
      "outputs": []
    },
    {
      "cell_type": "code",
      "metadata": {
        "execution": {
          "iopub.status.busy": "2021-07-08T09:29:59.390619Z",
          "iopub.execute_input": "2021-07-08T09:29:59.390926Z",
          "iopub.status.idle": "2021-07-08T09:31:38.221083Z",
          "shell.execute_reply.started": "2021-07-08T09:29:59.390902Z",
          "shell.execute_reply": "2021-07-08T09:31:38.220299Z"
        },
        "trusted": true,
        "id": "bc5qRyEIVJRw"
      },
      "source": [
        "# from distutils.dir_util import copy_tree\n",
        "\n",
        "# copy_tree(main_path,'temp')"
      ],
      "execution_count": 11,
      "outputs": []
    },
    {
      "cell_type": "code",
      "metadata": {
        "execution": {
          "iopub.status.busy": "2021-07-08T09:31:38.222865Z",
          "iopub.execute_input": "2021-07-08T09:31:38.223219Z",
          "iopub.status.idle": "2021-07-08T09:31:38.228298Z",
          "shell.execute_reply.started": "2021-07-08T09:31:38.223184Z",
          "shell.execute_reply": "2021-07-08T09:31:38.227302Z"
        },
        "trusted": true,
        "id": "f0Wrc2RvVJRw"
      },
      "source": [
        "path += os.listdir()[1]"
      ],
      "execution_count": 12,
      "outputs": []
    },
    {
      "cell_type": "code",
      "metadata": {
        "colab": {
          "base_uri": "https://localhost:8080/",
          "height": 35
        },
        "id": "hRNF7JTUgwN9",
        "outputId": "dbd60481-2757-4fa4-ff16-146978b56533"
      },
      "source": [
        "path"
      ],
      "execution_count": 13,
      "outputs": [
        {
          "output_type": "execute_result",
          "data": {
            "application/vnd.google.colaboratory.intrinsic+json": {
              "type": "string"
            },
            "text/plain": [
              "'/content/gdrive/MyDrive/Kaggle/chest_xray/chest_xray'"
            ]
          },
          "metadata": {
            "tags": []
          },
          "execution_count": 13
        }
      ]
    },
    {
      "cell_type": "code",
      "metadata": {
        "execution": {
          "iopub.status.busy": "2021-07-08T09:31:38.229541Z",
          "iopub.execute_input": "2021-07-08T09:31:38.230177Z",
          "iopub.status.idle": "2021-07-08T09:31:38.237377Z",
          "shell.execute_reply.started": "2021-07-08T09:31:38.23014Z",
          "shell.execute_reply": "2021-07-08T09:31:38.236486Z"
        },
        "trusted": true,
        "id": "jFo7H7kxVJRx"
      },
      "source": [
        "train_path = os.path.join(path,\"train\")\n",
        "test_path=os.path.join(path,\"test\")\n",
        "val_path=os.path.join(path,\"val\")"
      ],
      "execution_count": 14,
      "outputs": []
    },
    {
      "cell_type": "code",
      "metadata": {
        "execution": {
          "iopub.status.busy": "2021-07-08T09:31:38.238576Z",
          "iopub.execute_input": "2021-07-08T09:31:38.23892Z",
          "iopub.status.idle": "2021-07-08T09:31:38.260952Z",
          "shell.execute_reply.started": "2021-07-08T09:31:38.238886Z",
          "shell.execute_reply": "2021-07-08T09:31:38.260255Z"
        },
        "trusted": true,
        "id": "nDxbNeWkVJRx"
      },
      "source": [
        "# for i in ['/NORMAL/','/PNEUMONIA/']:\n",
        "#     for img in os.listdir(train_path+i)[:192]:\n",
        "#         os.replace(train_path+i+img, val_path+i+img)"
      ],
      "execution_count": 16,
      "outputs": []
    },
    {
      "cell_type": "code",
      "metadata": {
        "colab": {
          "base_uri": "https://localhost:8080/",
          "height": 35
        },
        "id": "HAKI0AzEnuNu",
        "outputId": "72f4f3ec-397b-40d5-de17-22e08ed55ccf"
      },
      "source": [
        "val_path"
      ],
      "execution_count": 25,
      "outputs": [
        {
          "output_type": "execute_result",
          "data": {
            "application/vnd.google.colaboratory.intrinsic+json": {
              "type": "string"
            },
            "text/plain": [
              "'/content/gdrive/MyDrive/Kaggle/chest_xray/chest_xray/val'"
            ]
          },
          "metadata": {
            "tags": []
          },
          "execution_count": 25
        }
      ]
    },
    {
      "cell_type": "code",
      "metadata": {
        "execution": {
          "iopub.status.busy": "2021-07-08T09:31:38.262324Z",
          "iopub.execute_input": "2021-07-08T09:31:38.262697Z",
          "iopub.status.idle": "2021-07-08T09:31:38.271365Z",
          "shell.execute_reply.started": "2021-07-08T09:31:38.262663Z",
          "shell.execute_reply": "2021-07-08T09:31:38.270462Z"
        },
        "trusted": true,
        "colab": {
          "base_uri": "https://localhost:8080/"
        },
        "id": "5VhdykSNVJRy",
        "outputId": "d874a0d0-095b-4f9c-c910-184c6ef1e74c"
      },
      "source": [
        "len(os.listdir(val_path+'/NORMAL'))"
      ],
      "execution_count": 26,
      "outputs": [
        {
          "output_type": "execute_result",
          "data": {
            "text/plain": [
              "200"
            ]
          },
          "metadata": {
            "tags": []
          },
          "execution_count": 26
        }
      ]
    },
    {
      "cell_type": "code",
      "metadata": {
        "execution": {
          "iopub.status.busy": "2021-07-08T09:31:38.275121Z",
          "iopub.execute_input": "2021-07-08T09:31:38.275351Z",
          "iopub.status.idle": "2021-07-08T09:31:38.283368Z",
          "shell.execute_reply.started": "2021-07-08T09:31:38.27533Z",
          "shell.execute_reply": "2021-07-08T09:31:38.282498Z"
        },
        "trusted": true,
        "colab": {
          "base_uri": "https://localhost:8080/"
        },
        "id": "HwkN0e6eVJRz",
        "outputId": "ab756be8-64c6-425a-887a-e787d1df3f85"
      },
      "source": [
        "len(os.listdir(val_path+'/PNEUMONIA'))"
      ],
      "execution_count": 27,
      "outputs": [
        {
          "output_type": "execute_result",
          "data": {
            "text/plain": [
              "200"
            ]
          },
          "metadata": {
            "tags": []
          },
          "execution_count": 27
        }
      ]
    },
    {
      "cell_type": "code",
      "metadata": {
        "execution": {
          "iopub.status.busy": "2021-07-08T09:31:38.286361Z",
          "iopub.execute_input": "2021-07-08T09:31:38.286601Z",
          "iopub.status.idle": "2021-07-08T09:31:38.313735Z",
          "shell.execute_reply.started": "2021-07-08T09:31:38.286579Z",
          "shell.execute_reply": "2021-07-08T09:31:38.313072Z"
        },
        "trusted": true,
        "id": "tWhj_kVyVJRz"
      },
      "source": [
        "# pneumonia_train_images = glob.glob(train_path+\"/PNEUMONIA/*.jpeg\")\n",
        "# normal_train_images = glob.glob(train_path+\"/NORMAL/*.jpeg\")\n",
        "\n",
        "# pneumonia_val_images = glob.glob(val_path+\"/PNEUMONIA/*.jpeg\")\n",
        "# normal_val_images = glob.glob(val_path+\"/NORMAL/*.jpeg\")\n",
        "\n",
        "# pneumonia_test_images = glob.glob(test_path+\"/PNEUMONIA/*.jpeg\")\n",
        "# normal_test_images = glob.glob(test_path+\"/NORMAL/*.jpeg\")"
      ],
      "execution_count": 19,
      "outputs": []
    },
    {
      "cell_type": "code",
      "metadata": {
        "execution": {
          "iopub.status.busy": "2021-07-08T09:31:38.315743Z",
          "iopub.execute_input": "2021-07-08T09:31:38.31611Z",
          "iopub.status.idle": "2021-07-08T09:31:38.323932Z",
          "shell.execute_reply.started": "2021-07-08T09:31:38.316038Z",
          "shell.execute_reply": "2021-07-08T09:31:38.322983Z"
        },
        "trusted": true,
        "id": "oHB7v_y-VJR0"
      },
      "source": [
        "# data = pd.DataFrame(np.concatenate([[0]*len(normal_train_images) , [1] *  len(pneumonia_train_images)]),columns=[\"class\"])"
      ],
      "execution_count": 20,
      "outputs": []
    },
    {
      "cell_type": "code",
      "metadata": {
        "execution": {
          "iopub.status.busy": "2021-07-08T09:31:38.325602Z",
          "iopub.execute_input": "2021-07-08T09:31:38.32602Z",
          "iopub.status.idle": "2021-07-08T09:31:38.64409Z",
          "shell.execute_reply.started": "2021-07-08T09:31:38.325992Z",
          "shell.execute_reply": "2021-07-08T09:31:38.642567Z"
        },
        "trusted": true,
        "id": "dZDOwmPwVJR0"
      },
      "source": [
        "# sns.countplot(data['class'],data=data)"
      ],
      "execution_count": 21,
      "outputs": []
    },
    {
      "cell_type": "code",
      "metadata": {
        "execution": {
          "iopub.status.busy": "2021-07-08T09:31:38.649938Z",
          "iopub.execute_input": "2021-07-08T09:31:38.653344Z",
          "iopub.status.idle": "2021-07-08T09:31:38.669824Z",
          "shell.execute_reply.started": "2021-07-08T09:31:38.653297Z",
          "shell.execute_reply": "2021-07-08T09:31:38.66601Z"
        },
        "trusted": true,
        "id": "e9m77ayRVJR0"
      },
      "source": [
        "# define the type of augmentation techniques we will apply.\n",
        "train_Datagen = ImageDataGenerator(\n",
        "    rescale =1/255,\n",
        "#     shear_range=10,\n",
        "    zoom_range = 0.2,\n",
        "    width_shift_range=0.2,\n",
        "    height_shift_range=0.2,\n",
        "#     rotation_range=20,\n",
        "    fill_mode = 'nearest',\n",
        ")\n",
        "val_datagen = ImageDataGenerator(\n",
        "    rescale =1/255,\n",
        "#     shear_range=10,\n",
        "#     zoom_range = 0.2,\n",
        "#     horizontal_flip = True,\n",
        "#     width_shift_range=0.2,\n",
        "#     height_shift_range=0.2,\n",
        "#     rotation_range=20,\n",
        "#     fill_mode = 'nearest',\n",
        ")"
      ],
      "execution_count": 22,
      "outputs": []
    },
    {
      "cell_type": "code",
      "metadata": {
        "execution": {
          "iopub.status.busy": "2021-07-08T09:31:38.676955Z",
          "iopub.execute_input": "2021-07-08T09:31:38.678335Z",
          "iopub.status.idle": "2021-07-08T09:31:43.045633Z",
          "shell.execute_reply.started": "2021-07-08T09:31:38.677825Z",
          "shell.execute_reply": "2021-07-08T09:31:43.044777Z"
        },
        "trusted": true,
        "colab": {
          "base_uri": "https://localhost:8080/"
        },
        "id": "FQlaq9R4VJR1",
        "outputId": "3b68f4c3-3993-404f-dcd1-29317f00d394"
      },
      "source": [
        "base_model = tf.keras.applications.ResNet50V2(weights='imagenet', include_top=False)\n",
        "\n",
        "for layer in base_model.layers:\n",
        "    layer.trainable = False\n",
        "    \n",
        "\n",
        "model = Sequential()\n",
        "model.add(base_model)\n",
        "model.add(GlobalAveragePooling2D())\n",
        "model.add(Dense(1024, activation = 'relu',kernel_regularizer= keras.regularizers.l2(l2=0.05)))\n",
        "model.add(Dropout(0.7))\n",
        "model.add(Dense(64, activation='relu',kernel_regularizer=keras.regularizers.l2(l2=0.05)))\n",
        "model.add(Dropout(0.5))\n",
        "model.add(Dense(1, activation='sigmoid'))\n",
        "model.summary()"
      ],
      "execution_count": 23,
      "outputs": [
        {
          "output_type": "stream",
          "text": [
            "Model: \"sequential\"\n",
            "_________________________________________________________________\n",
            "Layer (type)                 Output Shape              Param #   \n",
            "=================================================================\n",
            "resnet50v2 (Functional)      (None, None, None, 2048)  23564800  \n",
            "_________________________________________________________________\n",
            "global_average_pooling2d (Gl (None, 2048)              0         \n",
            "_________________________________________________________________\n",
            "dense (Dense)                (None, 1024)              2098176   \n",
            "_________________________________________________________________\n",
            "dropout (Dropout)            (None, 1024)              0         \n",
            "_________________________________________________________________\n",
            "dense_1 (Dense)              (None, 64)                65600     \n",
            "_________________________________________________________________\n",
            "dropout_1 (Dropout)          (None, 64)                0         \n",
            "_________________________________________________________________\n",
            "dense_2 (Dense)              (None, 1)                 65        \n",
            "=================================================================\n",
            "Total params: 25,728,641\n",
            "Trainable params: 2,163,841\n",
            "Non-trainable params: 23,564,800\n",
            "_________________________________________________________________\n"
          ],
          "name": "stdout"
        }
      ]
    },
    {
      "cell_type": "code",
      "metadata": {
        "id": "OAAbQ9LrjzsZ"
      },
      "source": [
        ""
      ],
      "execution_count": 23,
      "outputs": []
    },
    {
      "cell_type": "code",
      "metadata": {
        "execution": {
          "iopub.status.busy": "2021-07-08T09:31:43.047644Z",
          "iopub.execute_input": "2021-07-08T09:31:43.047993Z",
          "iopub.status.idle": "2021-07-08T09:31:43.469183Z",
          "shell.execute_reply.started": "2021-07-08T09:31:43.047956Z",
          "shell.execute_reply": "2021-07-08T09:31:43.4684Z"
        },
        "trusted": true,
        "colab": {
          "base_uri": "https://localhost:8080/"
        },
        "id": "CH8ftO7kVJR1",
        "outputId": "9139d90b-2cd8-416c-d7fb-3e5d85084b4b"
      },
      "source": [
        "train_generator=train_Datagen.flow_from_directory(\n",
        "    train_path,\n",
        "    target_size=(150,150),\n",
        "    batch_size= 32,\n",
        "    class_mode='binary'\n",
        ")\n",
        "validation_generator = val_datagen.flow_from_directory(\n",
        "        test_path,\n",
        "        target_size=(150,150),\n",
        "        batch_size=32,\n",
        "        class_mode='binary'\n",
        ")\n",
        "test_generator = val_datagen.flow_from_directory(\n",
        "    val_path,\n",
        "    target_size=(150,150),\n",
        "    batch_size=32,\n",
        "    class_mode='binary'\n",
        ")"
      ],
      "execution_count": 29,
      "outputs": [
        {
          "output_type": "stream",
          "text": [
            "Found 4834 images belonging to 2 classes.\n",
            "Found 624 images belonging to 2 classes.\n",
            "Found 398 images belonging to 2 classes.\n"
          ],
          "name": "stdout"
        }
      ]
    },
    {
      "cell_type": "code",
      "metadata": {
        "execution": {
          "iopub.status.busy": "2021-07-08T09:31:43.470466Z",
          "iopub.execute_input": "2021-07-08T09:31:43.4708Z",
          "iopub.status.idle": "2021-07-08T09:43:50.96691Z",
          "shell.execute_reply.started": "2021-07-08T09:31:43.470765Z",
          "shell.execute_reply": "2021-07-08T09:43:50.966099Z"
        },
        "trusted": true,
        "colab": {
          "base_uri": "https://localhost:8080/"
        },
        "id": "r0TXRYKSVJR2",
        "outputId": "a7d7bd1a-613f-4074-a864-ee04448710c2"
      },
      "source": [
        "from keras.optimizers import Adam\n",
        "\n",
        "initial_learning_rate = 1e-3\n",
        "lr_schedule = tf.keras.optimizers.schedules.ExponentialDecay(\n",
        "    initial_learning_rate,\n",
        "    decay_steps=750,\n",
        "    decay_rate=0.9,\n",
        "    staircase=True)\n",
        "\n",
        "model.compile(optimizer= Adam(lr_schedule), loss='binary_crossentropy', metrics=[\"accuracy\"])\n",
        "\n",
        "#callback = tf.keras.callbacks.EarlyStopping(monitor='accuracy', patience=4)\n",
        "\n",
        "history = model.fit(train_generator,\n",
        "                    epochs=10,\n",
        "                    steps_per_epoch = 4834 // 32,\n",
        "                    validation_data = validation_generator,\n",
        "                    validation_steps = 624 // 32)"
      ],
      "execution_count": 31,
      "outputs": [
        {
          "output_type": "stream",
          "text": [
            "Epoch 1/10\n",
            "151/151 [==============================] - 1081s 7s/step - loss: 10.8261 - accuracy: 0.8397 - val_loss: 1.5007 - val_accuracy: 0.7862\n",
            "Epoch 2/10\n",
            "151/151 [==============================] - 77s 512ms/step - loss: 0.9120 - accuracy: 0.8732 - val_loss: 0.7169 - val_accuracy: 0.8470\n",
            "Epoch 3/10\n",
            "151/151 [==============================] - 77s 513ms/step - loss: 0.5672 - accuracy: 0.8744 - val_loss: 0.6092 - val_accuracy: 0.8322\n",
            "Epoch 4/10\n",
            "151/151 [==============================] - 77s 509ms/step - loss: 0.4637 - accuracy: 0.8859 - val_loss: 0.5471 - val_accuracy: 0.8109\n",
            "Epoch 5/10\n",
            "151/151 [==============================] - 76s 506ms/step - loss: 0.4470 - accuracy: 0.8786 - val_loss: 0.5337 - val_accuracy: 0.8257\n",
            "Epoch 6/10\n",
            "151/151 [==============================] - 76s 505ms/step - loss: 0.4176 - accuracy: 0.8803 - val_loss: 0.6202 - val_accuracy: 0.7664\n",
            "Epoch 7/10\n",
            "151/151 [==============================] - 77s 508ms/step - loss: 0.4118 - accuracy: 0.8865 - val_loss: 0.4742 - val_accuracy: 0.8602\n",
            "Epoch 8/10\n",
            "151/151 [==============================] - 77s 508ms/step - loss: 0.4088 - accuracy: 0.8894 - val_loss: 0.4974 - val_accuracy: 0.8487\n",
            "Epoch 9/10\n",
            "151/151 [==============================] - 77s 509ms/step - loss: 0.4149 - accuracy: 0.8861 - val_loss: 0.7085 - val_accuracy: 0.7401\n",
            "Epoch 10/10\n",
            "151/151 [==============================] - 77s 510ms/step - loss: 0.4164 - accuracy: 0.8796 - val_loss: 0.4738 - val_accuracy: 0.8520\n"
          ],
          "name": "stdout"
        }
      ]
    },
    {
      "cell_type": "code",
      "metadata": {
        "execution": {
          "iopub.status.busy": "2021-07-08T09:43:50.968519Z",
          "iopub.execute_input": "2021-07-08T09:43:50.969171Z",
          "iopub.status.idle": "2021-07-08T09:43:54.835617Z",
          "shell.execute_reply.started": "2021-07-08T09:43:50.969131Z",
          "shell.execute_reply": "2021-07-08T09:43:54.834754Z"
        },
        "trusted": true,
        "id": "0hMWOR3_VJR2",
        "colab": {
          "base_uri": "https://localhost:8080/"
        },
        "outputId": "57ef88ee-bfcc-4182-f7a4-242e454d3858"
      },
      "source": [
        "model.evaluate_generator(test_generator,16)[1]"
      ],
      "execution_count": 32,
      "outputs": [
        {
          "output_type": "stream",
          "text": [
            "/usr/local/lib/python3.7/dist-packages/tensorflow/python/keras/engine/training.py:1973: UserWarning: `Model.evaluate_generator` is deprecated and will be removed in a future version. Please use `Model.evaluate`, which supports generators.\n",
            "  warnings.warn('`Model.evaluate_generator` is deprecated and '\n"
          ],
          "name": "stderr"
        },
        {
          "output_type": "stream",
          "text": [
            "WARNING:tensorflow:Your input ran out of data; interrupting training. Make sure that your dataset or generator can generate at least `steps_per_epoch * epochs` batches (in this case, 16 batches). You may need to use the repeat() function when building your dataset.\n"
          ],
          "name": "stdout"
        },
        {
          "output_type": "execute_result",
          "data": {
            "text/plain": [
              "0.9522613286972046"
            ]
          },
          "metadata": {
            "tags": []
          },
          "execution_count": 32
        }
      ]
    },
    {
      "cell_type": "code",
      "metadata": {
        "execution": {
          "iopub.status.busy": "2021-07-08T09:43:54.837002Z",
          "iopub.execute_input": "2021-07-08T09:43:54.837577Z",
          "iopub.status.idle": "2021-07-08T09:44:01.444202Z",
          "shell.execute_reply.started": "2021-07-08T09:43:54.83754Z",
          "shell.execute_reply": "2021-07-08T09:44:01.443231Z"
        },
        "trusted": true,
        "id": "EOXczqiqVJR3",
        "colab": {
          "base_uri": "https://localhost:8080/"
        },
        "outputId": "05b95671-4cac-48af-f5c8-4c49c228863e"
      },
      "source": [
        "model.evaluate_generator(validation_generator,16)[1]"
      ],
      "execution_count": 33,
      "outputs": [
        {
          "output_type": "stream",
          "text": [
            "/usr/local/lib/python3.7/dist-packages/tensorflow/python/keras/engine/training.py:1973: UserWarning: `Model.evaluate_generator` is deprecated and will be removed in a future version. Please use `Model.evaluate`, which supports generators.\n",
            "  warnings.warn('`Model.evaluate_generator` is deprecated and '\n"
          ],
          "name": "stderr"
        },
        {
          "output_type": "execute_result",
          "data": {
            "text/plain": [
              "0.849609375"
            ]
          },
          "metadata": {
            "tags": []
          },
          "execution_count": 33
        }
      ]
    },
    {
      "cell_type": "code",
      "metadata": {
        "execution": {
          "iopub.status.busy": "2021-07-08T09:44:01.445756Z",
          "iopub.execute_input": "2021-07-08T09:44:01.446333Z",
          "iopub.status.idle": "2021-07-08T09:44:01.450547Z",
          "shell.execute_reply.started": "2021-07-08T09:44:01.446293Z",
          "shell.execute_reply": "2021-07-08T09:44:01.449653Z"
        },
        "trusted": true,
        "id": "hvNwC2raVJR3"
      },
      "source": [
        "# base_model = tf.keras.applications.ResNet50V2(weights='imagenet', include_top=False)\n",
        "\n",
        "# for layer in base_model.layers:\n",
        "#     layer.trainable = True\n",
        "# keras.regularizers.l2(l2=0.03)    \n",
        "    \n",
        "# model = Sequential()\n",
        "# model.add(base_model)\n",
        "# model.add(GlobalAveragePooling2D())\n",
        "# model.add(Dense(1024, activation = 'relu',kernel_regularizer='l2'))\n",
        "# model.add(Dropout(0.5))\n",
        "# model.add(Dense(512, activation = 'relu', kernel_regularizer='l2'))\n",
        "# model.add(Dropout(0.5))\n",
        "# model.add(Dense(128, activation = 'relu' , kernel_regularizer='l2'))\n",
        "# model.add(Dropout(0.7))\n",
        "# model.add(Dense(1, activation='sigmoid'))\n",
        "# model.summary()\n",
        "        "
      ],
      "execution_count": 34,
      "outputs": []
    },
    {
      "cell_type": "code",
      "metadata": {
        "execution": {
          "iopub.status.busy": "2021-07-08T09:44:01.451791Z",
          "iopub.execute_input": "2021-07-08T09:44:01.452427Z",
          "iopub.status.idle": "2021-07-08T09:44:01.510829Z",
          "shell.execute_reply.started": "2021-07-08T09:44:01.452389Z",
          "shell.execute_reply": "2021-07-08T09:44:01.497121Z"
        },
        "trusted": true,
        "id": "WFsiFSfUVJR3",
        "colab": {
          "base_uri": "https://localhost:8080/"
        },
        "outputId": "0bb56cab-2c50-4bdf-d1a6-508925cbadd2"
      },
      "source": [
        "for i, layer in enumerate(base_model.layers):\n",
        "    print(i, layer.name)"
      ],
      "execution_count": 35,
      "outputs": [
        {
          "output_type": "stream",
          "text": [
            "0 input_1\n",
            "1 conv1_pad\n",
            "2 conv1_conv\n",
            "3 pool1_pad\n",
            "4 pool1_pool\n",
            "5 conv2_block1_preact_bn\n",
            "6 conv2_block1_preact_relu\n",
            "7 conv2_block1_1_conv\n",
            "8 conv2_block1_1_bn\n",
            "9 conv2_block1_1_relu\n",
            "10 conv2_block1_2_pad\n",
            "11 conv2_block1_2_conv\n",
            "12 conv2_block1_2_bn\n",
            "13 conv2_block1_2_relu\n",
            "14 conv2_block1_0_conv\n",
            "15 conv2_block1_3_conv\n",
            "16 conv2_block1_out\n",
            "17 conv2_block2_preact_bn\n",
            "18 conv2_block2_preact_relu\n",
            "19 conv2_block2_1_conv\n",
            "20 conv2_block2_1_bn\n",
            "21 conv2_block2_1_relu\n",
            "22 conv2_block2_2_pad\n",
            "23 conv2_block2_2_conv\n",
            "24 conv2_block2_2_bn\n",
            "25 conv2_block2_2_relu\n",
            "26 conv2_block2_3_conv\n",
            "27 conv2_block2_out\n",
            "28 conv2_block3_preact_bn\n",
            "29 conv2_block3_preact_relu\n",
            "30 conv2_block3_1_conv\n",
            "31 conv2_block3_1_bn\n",
            "32 conv2_block3_1_relu\n",
            "33 conv2_block3_2_pad\n",
            "34 conv2_block3_2_conv\n",
            "35 conv2_block3_2_bn\n",
            "36 conv2_block3_2_relu\n",
            "37 max_pooling2d\n",
            "38 conv2_block3_3_conv\n",
            "39 conv2_block3_out\n",
            "40 conv3_block1_preact_bn\n",
            "41 conv3_block1_preact_relu\n",
            "42 conv3_block1_1_conv\n",
            "43 conv3_block1_1_bn\n",
            "44 conv3_block1_1_relu\n",
            "45 conv3_block1_2_pad\n",
            "46 conv3_block1_2_conv\n",
            "47 conv3_block1_2_bn\n",
            "48 conv3_block1_2_relu\n",
            "49 conv3_block1_0_conv\n",
            "50 conv3_block1_3_conv\n",
            "51 conv3_block1_out\n",
            "52 conv3_block2_preact_bn\n",
            "53 conv3_block2_preact_relu\n",
            "54 conv3_block2_1_conv\n",
            "55 conv3_block2_1_bn\n",
            "56 conv3_block2_1_relu\n",
            "57 conv3_block2_2_pad\n",
            "58 conv3_block2_2_conv\n",
            "59 conv3_block2_2_bn\n",
            "60 conv3_block2_2_relu\n",
            "61 conv3_block2_3_conv\n",
            "62 conv3_block2_out\n",
            "63 conv3_block3_preact_bn\n",
            "64 conv3_block3_preact_relu\n",
            "65 conv3_block3_1_conv\n",
            "66 conv3_block3_1_bn\n",
            "67 conv3_block3_1_relu\n",
            "68 conv3_block3_2_pad\n",
            "69 conv3_block3_2_conv\n",
            "70 conv3_block3_2_bn\n",
            "71 conv3_block3_2_relu\n",
            "72 conv3_block3_3_conv\n",
            "73 conv3_block3_out\n",
            "74 conv3_block4_preact_bn\n",
            "75 conv3_block4_preact_relu\n",
            "76 conv3_block4_1_conv\n",
            "77 conv3_block4_1_bn\n",
            "78 conv3_block4_1_relu\n",
            "79 conv3_block4_2_pad\n",
            "80 conv3_block4_2_conv\n",
            "81 conv3_block4_2_bn\n",
            "82 conv3_block4_2_relu\n",
            "83 max_pooling2d_1\n",
            "84 conv3_block4_3_conv\n",
            "85 conv3_block4_out\n",
            "86 conv4_block1_preact_bn\n",
            "87 conv4_block1_preact_relu\n",
            "88 conv4_block1_1_conv\n",
            "89 conv4_block1_1_bn\n",
            "90 conv4_block1_1_relu\n",
            "91 conv4_block1_2_pad\n",
            "92 conv4_block1_2_conv\n",
            "93 conv4_block1_2_bn\n",
            "94 conv4_block1_2_relu\n",
            "95 conv4_block1_0_conv\n",
            "96 conv4_block1_3_conv\n",
            "97 conv4_block1_out\n",
            "98 conv4_block2_preact_bn\n",
            "99 conv4_block2_preact_relu\n",
            "100 conv4_block2_1_conv\n",
            "101 conv4_block2_1_bn\n",
            "102 conv4_block2_1_relu\n",
            "103 conv4_block2_2_pad\n",
            "104 conv4_block2_2_conv\n",
            "105 conv4_block2_2_bn\n",
            "106 conv4_block2_2_relu\n",
            "107 conv4_block2_3_conv\n",
            "108 conv4_block2_out\n",
            "109 conv4_block3_preact_bn\n",
            "110 conv4_block3_preact_relu\n",
            "111 conv4_block3_1_conv\n",
            "112 conv4_block3_1_bn\n",
            "113 conv4_block3_1_relu\n",
            "114 conv4_block3_2_pad\n",
            "115 conv4_block3_2_conv\n",
            "116 conv4_block3_2_bn\n",
            "117 conv4_block3_2_relu\n",
            "118 conv4_block3_3_conv\n",
            "119 conv4_block3_out\n",
            "120 conv4_block4_preact_bn\n",
            "121 conv4_block4_preact_relu\n",
            "122 conv4_block4_1_conv\n",
            "123 conv4_block4_1_bn\n",
            "124 conv4_block4_1_relu\n",
            "125 conv4_block4_2_pad\n",
            "126 conv4_block4_2_conv\n",
            "127 conv4_block4_2_bn\n",
            "128 conv4_block4_2_relu\n",
            "129 conv4_block4_3_conv\n",
            "130 conv4_block4_out\n",
            "131 conv4_block5_preact_bn\n",
            "132 conv4_block5_preact_relu\n",
            "133 conv4_block5_1_conv\n",
            "134 conv4_block5_1_bn\n",
            "135 conv4_block5_1_relu\n",
            "136 conv4_block5_2_pad\n",
            "137 conv4_block5_2_conv\n",
            "138 conv4_block5_2_bn\n",
            "139 conv4_block5_2_relu\n",
            "140 conv4_block5_3_conv\n",
            "141 conv4_block5_out\n",
            "142 conv4_block6_preact_bn\n",
            "143 conv4_block6_preact_relu\n",
            "144 conv4_block6_1_conv\n",
            "145 conv4_block6_1_bn\n",
            "146 conv4_block6_1_relu\n",
            "147 conv4_block6_2_pad\n",
            "148 conv4_block6_2_conv\n",
            "149 conv4_block6_2_bn\n",
            "150 conv4_block6_2_relu\n",
            "151 max_pooling2d_2\n",
            "152 conv4_block6_3_conv\n",
            "153 conv4_block6_out\n",
            "154 conv5_block1_preact_bn\n",
            "155 conv5_block1_preact_relu\n",
            "156 conv5_block1_1_conv\n",
            "157 conv5_block1_1_bn\n",
            "158 conv5_block1_1_relu\n",
            "159 conv5_block1_2_pad\n",
            "160 conv5_block1_2_conv\n",
            "161 conv5_block1_2_bn\n",
            "162 conv5_block1_2_relu\n",
            "163 conv5_block1_0_conv\n",
            "164 conv5_block1_3_conv\n",
            "165 conv5_block1_out\n",
            "166 conv5_block2_preact_bn\n",
            "167 conv5_block2_preact_relu\n",
            "168 conv5_block2_1_conv\n",
            "169 conv5_block2_1_bn\n",
            "170 conv5_block2_1_relu\n",
            "171 conv5_block2_2_pad\n",
            "172 conv5_block2_2_conv\n",
            "173 conv5_block2_2_bn\n",
            "174 conv5_block2_2_relu\n",
            "175 conv5_block2_3_conv\n",
            "176 conv5_block2_out\n",
            "177 conv5_block3_preact_bn\n",
            "178 conv5_block3_preact_relu\n",
            "179 conv5_block3_1_conv\n",
            "180 conv5_block3_1_bn\n",
            "181 conv5_block3_1_relu\n",
            "182 conv5_block3_2_pad\n",
            "183 conv5_block3_2_conv\n",
            "184 conv5_block3_2_bn\n",
            "185 conv5_block3_2_relu\n",
            "186 conv5_block3_3_conv\n",
            "187 conv5_block3_out\n",
            "188 post_bn\n",
            "189 post_relu\n"
          ],
          "name": "stdout"
        }
      ]
    },
    {
      "cell_type": "code",
      "metadata": {
        "execution": {
          "iopub.status.busy": "2021-07-08T09:44:01.512074Z",
          "iopub.execute_input": "2021-07-08T09:44:01.5124Z",
          "iopub.status.idle": "2021-07-08T09:44:01.525054Z",
          "shell.execute_reply.started": "2021-07-08T09:44:01.512364Z",
          "shell.execute_reply": "2021-07-08T09:44:01.524169Z"
        },
        "trusted": true,
        "id": "Roekgsc2VJR4"
      },
      "source": [
        "for layer in base_model.layers[:165]:\n",
        "    layer.trainable = False\n",
        "for layer in base_model.layers[165:]:\n",
        "    layer.trainable = True"
      ],
      "execution_count": 36,
      "outputs": []
    },
    {
      "cell_type": "code",
      "metadata": {
        "execution": {
          "iopub.status.busy": "2021-07-08T09:44:01.526486Z",
          "iopub.execute_input": "2021-07-08T09:44:01.526837Z",
          "iopub.status.idle": "2021-07-08T09:44:01.552122Z",
          "shell.execute_reply.started": "2021-07-08T09:44:01.526795Z",
          "shell.execute_reply": "2021-07-08T09:44:01.551368Z"
        },
        "trusted": true,
        "id": "4ofbMM00VJR4"
      },
      "source": [
        "initial_learning_rate = 1e-4\n",
        "lr_schedule = tf.keras.optimizers.schedules.ExponentialDecay(\n",
        "    initial_learning_rate,\n",
        "    decay_steps=750,\n",
        "    decay_rate=0.9,\n",
        "    staircase=True)\n",
        "model.compile(optimizer=tf.keras.optimizers.Adam(lr_schedule),  # Very slow learning rate\n",
        "              loss=keras.losses.BinaryCrossentropy(from_logits=True),\n",
        "              metrics=[keras.metrics.BinaryAccuracy()])"
      ],
      "execution_count": 37,
      "outputs": []
    },
    {
      "cell_type": "code",
      "metadata": {
        "execution": {
          "iopub.status.busy": "2021-07-08T09:44:01.553297Z",
          "iopub.execute_input": "2021-07-08T09:44:01.553628Z",
          "iopub.status.idle": "2021-07-08T10:07:28.201677Z",
          "shell.execute_reply.started": "2021-07-08T09:44:01.553593Z",
          "shell.execute_reply": "2021-07-08T10:07:28.200872Z"
        },
        "trusted": true,
        "id": "Z6VCRhtiVJR5",
        "colab": {
          "base_uri": "https://localhost:8080/"
        },
        "outputId": "b6baf00c-3b64-4fa3-f996-dd90391291c9"
      },
      "source": [
        "history_new = model.fit(train_generator,\n",
        "                              epochs=50,\n",
        "                              steps_per_epoch = 4834 // 32,\n",
        "                              validation_data = validation_generator,\n",
        "                              validation_steps = 624 // 32)"
      ],
      "execution_count": 38,
      "outputs": [
        {
          "output_type": "stream",
          "text": [
            "Epoch 1/50\n"
          ],
          "name": "stdout"
        },
        {
          "output_type": "stream",
          "text": [
            "/usr/local/lib/python3.7/dist-packages/keras/backend.py:4982: UserWarning: \"`binary_crossentropy` received `from_logits=True`, but the `output` argument was produced by a sigmoid or softmax activation and thus does not represent logits. Was this intended?\"\n",
            "  '\"`binary_crossentropy` received `from_logits=True`, but the `output`'\n"
          ],
          "name": "stderr"
        },
        {
          "output_type": "stream",
          "text": [
            "151/151 [==============================] - 87s 525ms/step - loss: 0.2954 - binary_accuracy: 0.9182 - val_loss: 0.6975 - val_binary_accuracy: 0.9278\n",
            "Epoch 2/50\n",
            "151/151 [==============================] - 78s 519ms/step - loss: 0.2122 - binary_accuracy: 0.9322 - val_loss: 0.5263 - val_binary_accuracy: 0.9365\n",
            "Epoch 3/50\n",
            "151/151 [==============================] - 79s 519ms/step - loss: 0.1720 - binary_accuracy: 0.9396 - val_loss: 0.2759 - val_binary_accuracy: 0.9426\n",
            "Epoch 4/50\n",
            "151/151 [==============================] - 78s 518ms/step - loss: 0.1497 - binary_accuracy: 0.9452 - val_loss: 0.3106 - val_binary_accuracy: 0.9468\n",
            "Epoch 5/50\n",
            "151/151 [==============================] - 78s 518ms/step - loss: 0.1408 - binary_accuracy: 0.9484 - val_loss: 0.3150 - val_binary_accuracy: 0.9497\n",
            "Epoch 6/50\n",
            "151/151 [==============================] - 78s 517ms/step - loss: 0.1262 - binary_accuracy: 0.9509 - val_loss: 0.3362 - val_binary_accuracy: 0.9522\n",
            "Epoch 7/50\n",
            "151/151 [==============================] - 78s 517ms/step - loss: 0.1166 - binary_accuracy: 0.9534 - val_loss: 0.2807 - val_binary_accuracy: 0.9545\n",
            "Epoch 8/50\n",
            "151/151 [==============================] - 78s 515ms/step - loss: 0.1125 - binary_accuracy: 0.9553 - val_loss: 0.4086 - val_binary_accuracy: 0.9561\n",
            "Epoch 9/50\n",
            "151/151 [==============================] - 78s 516ms/step - loss: 0.1123 - binary_accuracy: 0.9566 - val_loss: 0.2988 - val_binary_accuracy: 0.9572\n",
            "Epoch 10/50\n",
            "151/151 [==============================] - 77s 512ms/step - loss: 0.1053 - binary_accuracy: 0.9579 - val_loss: 0.3033 - val_binary_accuracy: 0.9584\n",
            "Epoch 11/50\n",
            "151/151 [==============================] - 77s 512ms/step - loss: 0.1079 - binary_accuracy: 0.9589 - val_loss: 0.2440 - val_binary_accuracy: 0.9594\n",
            "Epoch 12/50\n",
            "151/151 [==============================] - 77s 512ms/step - loss: 0.1007 - binary_accuracy: 0.9600 - val_loss: 0.2805 - val_binary_accuracy: 0.9605\n",
            "Epoch 13/50\n",
            "151/151 [==============================] - 77s 511ms/step - loss: 0.0870 - binary_accuracy: 0.9611 - val_loss: 0.2643 - val_binary_accuracy: 0.9617\n",
            "Epoch 14/50\n",
            "151/151 [==============================] - 78s 517ms/step - loss: 0.0862 - binary_accuracy: 0.9622 - val_loss: 0.3206 - val_binary_accuracy: 0.9628\n",
            "Epoch 15/50\n",
            "151/151 [==============================] - 77s 511ms/step - loss: 0.0867 - binary_accuracy: 0.9632 - val_loss: 0.3195 - val_binary_accuracy: 0.9635\n",
            "Epoch 16/50\n",
            "151/151 [==============================] - 78s 517ms/step - loss: 0.0904 - binary_accuracy: 0.9639 - val_loss: 0.2705 - val_binary_accuracy: 0.9643\n",
            "Epoch 17/50\n",
            "151/151 [==============================] - 78s 515ms/step - loss: 0.0802 - binary_accuracy: 0.9647 - val_loss: 0.3403 - val_binary_accuracy: 0.9650\n",
            "Epoch 18/50\n",
            "151/151 [==============================] - 78s 517ms/step - loss: 0.0858 - binary_accuracy: 0.9653 - val_loss: 0.2980 - val_binary_accuracy: 0.9656\n",
            "Epoch 19/50\n",
            "151/151 [==============================] - 78s 520ms/step - loss: 0.0791 - binary_accuracy: 0.9659 - val_loss: 0.2512 - val_binary_accuracy: 0.9661\n",
            "Epoch 20/50\n",
            "151/151 [==============================] - 78s 518ms/step - loss: 0.0781 - binary_accuracy: 0.9665 - val_loss: 0.2659 - val_binary_accuracy: 0.9668\n",
            "Epoch 21/50\n",
            "151/151 [==============================] - 78s 515ms/step - loss: 0.0923 - binary_accuracy: 0.9670 - val_loss: 0.2985 - val_binary_accuracy: 0.9671\n",
            "Epoch 22/50\n",
            "151/151 [==============================] - 78s 515ms/step - loss: 0.0853 - binary_accuracy: 0.9673 - val_loss: 0.4038 - val_binary_accuracy: 0.9674\n",
            "Epoch 23/50\n",
            "151/151 [==============================] - 77s 512ms/step - loss: 0.0810 - binary_accuracy: 0.9676 - val_loss: 0.3057 - val_binary_accuracy: 0.9677\n",
            "Epoch 24/50\n",
            "151/151 [==============================] - 78s 516ms/step - loss: 0.0751 - binary_accuracy: 0.9679 - val_loss: 0.2630 - val_binary_accuracy: 0.9681\n",
            "Epoch 25/50\n",
            "151/151 [==============================] - 78s 515ms/step - loss: 0.0703 - binary_accuracy: 0.9684 - val_loss: 0.2699 - val_binary_accuracy: 0.9686\n",
            "Epoch 26/50\n",
            "151/151 [==============================] - 78s 516ms/step - loss: 0.0704 - binary_accuracy: 0.9688 - val_loss: 0.2603 - val_binary_accuracy: 0.9690\n",
            "Epoch 27/50\n",
            "151/151 [==============================] - 78s 514ms/step - loss: 0.0726 - binary_accuracy: 0.9692 - val_loss: 0.3230 - val_binary_accuracy: 0.9694\n",
            "Epoch 28/50\n",
            "151/151 [==============================] - 78s 515ms/step - loss: 0.0643 - binary_accuracy: 0.9696 - val_loss: 0.3277 - val_binary_accuracy: 0.9698\n",
            "Epoch 29/50\n",
            "151/151 [==============================] - 78s 515ms/step - loss: 0.0665 - binary_accuracy: 0.9700 - val_loss: 0.3145 - val_binary_accuracy: 0.9702\n",
            "Epoch 30/50\n",
            "151/151 [==============================] - 78s 514ms/step - loss: 0.0689 - binary_accuracy: 0.9704 - val_loss: 0.2901 - val_binary_accuracy: 0.9705\n",
            "Epoch 31/50\n",
            "151/151 [==============================] - 78s 517ms/step - loss: 0.0694 - binary_accuracy: 0.9706 - val_loss: 0.3215 - val_binary_accuracy: 0.9708\n",
            "Epoch 32/50\n",
            "151/151 [==============================] - 78s 519ms/step - loss: 0.0679 - binary_accuracy: 0.9709 - val_loss: 0.3600 - val_binary_accuracy: 0.9710\n",
            "Epoch 33/50\n",
            "151/151 [==============================] - 79s 520ms/step - loss: 0.0707 - binary_accuracy: 0.9711 - val_loss: 0.2806 - val_binary_accuracy: 0.9713\n",
            "Epoch 34/50\n",
            "151/151 [==============================] - 78s 517ms/step - loss: 0.0703 - binary_accuracy: 0.9714 - val_loss: 0.3275 - val_binary_accuracy: 0.9716\n",
            "Epoch 35/50\n",
            "151/151 [==============================] - 78s 514ms/step - loss: 0.0629 - binary_accuracy: 0.9717 - val_loss: 0.3742 - val_binary_accuracy: 0.9718\n",
            "Epoch 36/50\n",
            "151/151 [==============================] - 78s 513ms/step - loss: 0.0567 - binary_accuracy: 0.9720 - val_loss: 0.3283 - val_binary_accuracy: 0.9722\n",
            "Epoch 37/50\n",
            "151/151 [==============================] - 77s 513ms/step - loss: 0.0599 - binary_accuracy: 0.9723 - val_loss: 0.2928 - val_binary_accuracy: 0.9725\n",
            "Epoch 38/50\n",
            "151/151 [==============================] - 77s 512ms/step - loss: 0.0609 - binary_accuracy: 0.9727 - val_loss: 0.2529 - val_binary_accuracy: 0.9728\n",
            "Epoch 39/50\n",
            "151/151 [==============================] - 77s 513ms/step - loss: 0.0633 - binary_accuracy: 0.9729 - val_loss: 0.3012 - val_binary_accuracy: 0.9730\n",
            "Epoch 40/50\n",
            "151/151 [==============================] - 77s 512ms/step - loss: 0.0612 - binary_accuracy: 0.9732 - val_loss: 0.3405 - val_binary_accuracy: 0.9733\n",
            "Epoch 41/50\n",
            "151/151 [==============================] - 77s 511ms/step - loss: 0.0558 - binary_accuracy: 0.9734 - val_loss: 0.3689 - val_binary_accuracy: 0.9735\n",
            "Epoch 42/50\n",
            "151/151 [==============================] - 77s 510ms/step - loss: 0.0576 - binary_accuracy: 0.9736 - val_loss: 0.3174 - val_binary_accuracy: 0.9736\n",
            "Epoch 43/50\n",
            "151/151 [==============================] - 77s 511ms/step - loss: 0.0504 - binary_accuracy: 0.9738 - val_loss: 0.2919 - val_binary_accuracy: 0.9739\n",
            "Epoch 44/50\n",
            "151/151 [==============================] - 77s 511ms/step - loss: 0.0524 - binary_accuracy: 0.9741 - val_loss: 0.3433 - val_binary_accuracy: 0.9741\n",
            "Epoch 45/50\n",
            "151/151 [==============================] - 77s 512ms/step - loss: 0.0586 - binary_accuracy: 0.9742 - val_loss: 0.3060 - val_binary_accuracy: 0.9743\n",
            "Epoch 46/50\n",
            "151/151 [==============================] - 77s 513ms/step - loss: 0.0543 - binary_accuracy: 0.9744 - val_loss: 0.3061 - val_binary_accuracy: 0.9745\n",
            "Epoch 47/50\n",
            "151/151 [==============================] - 77s 512ms/step - loss: 0.0500 - binary_accuracy: 0.9746 - val_loss: 0.2881 - val_binary_accuracy: 0.9747\n",
            "Epoch 48/50\n",
            "151/151 [==============================] - 77s 513ms/step - loss: 0.0479 - binary_accuracy: 0.9748 - val_loss: 0.2930 - val_binary_accuracy: 0.9749\n",
            "Epoch 49/50\n",
            "151/151 [==============================] - 77s 513ms/step - loss: 0.0467 - binary_accuracy: 0.9750 - val_loss: 0.3240 - val_binary_accuracy: 0.9751\n",
            "Epoch 50/50\n",
            "151/151 [==============================] - 78s 515ms/step - loss: 0.0504 - binary_accuracy: 0.9752 - val_loss: 0.2907 - val_binary_accuracy: 0.9753\n"
          ],
          "name": "stdout"
        }
      ]
    },
    {
      "cell_type": "code",
      "metadata": {
        "execution": {
          "iopub.status.busy": "2021-07-08T10:07:35.053773Z",
          "iopub.execute_input": "2021-07-08T10:07:35.054362Z",
          "iopub.status.idle": "2021-07-08T10:07:41.779803Z",
          "shell.execute_reply.started": "2021-07-08T10:07:35.054324Z",
          "shell.execute_reply": "2021-07-08T10:07:41.77901Z"
        },
        "trusted": true,
        "id": "g0pU6_-CVJR5",
        "colab": {
          "base_uri": "https://localhost:8080/"
        },
        "outputId": "c8002faa-eb9f-461d-f889-4e99aff98839"
      },
      "source": [
        "model.evaluate_generator(validation_generator)[1]"
      ],
      "execution_count": 39,
      "outputs": [
        {
          "output_type": "stream",
          "text": [
            "/usr/local/lib/python3.7/dist-packages/tensorflow/python/keras/engine/training.py:1973: UserWarning: `Model.evaluate_generator` is deprecated and will be removed in a future version. Please use `Model.evaluate`, which supports generators.\n",
            "  warnings.warn('`Model.evaluate_generator` is deprecated and '\n"
          ],
          "name": "stderr"
        },
        {
          "output_type": "execute_result",
          "data": {
            "text/plain": [
              "0.9752039909362793"
            ]
          },
          "metadata": {
            "tags": []
          },
          "execution_count": 39
        }
      ]
    },
    {
      "cell_type": "code",
      "metadata": {
        "id": "DgvSb-nEVJR5",
        "colab": {
          "base_uri": "https://localhost:8080/"
        },
        "outputId": "0dd972d0-8f7f-4f2c-9731-df76b7fcd48d"
      },
      "source": [
        "model.evaluate_generator(test_generator)[1]"
      ],
      "execution_count": 40,
      "outputs": [
        {
          "output_type": "stream",
          "text": [
            "/usr/local/lib/python3.7/dist-packages/tensorflow/python/keras/engine/training.py:1973: UserWarning: `Model.evaluate_generator` is deprecated and will be removed in a future version. Please use `Model.evaluate`, which supports generators.\n",
            "  warnings.warn('`Model.evaluate_generator` is deprecated and '\n"
          ],
          "name": "stderr"
        },
        {
          "output_type": "execute_result",
          "data": {
            "text/plain": [
              "0.9751599431037903"
            ]
          },
          "metadata": {
            "tags": []
          },
          "execution_count": 40
        }
      ]
    },
    {
      "cell_type": "code",
      "metadata": {
        "id": "znmSfdu9gmuZ"
      },
      "source": [
        ""
      ],
      "execution_count": null,
      "outputs": []
    },
    {
      "cell_type": "code",
      "metadata": {
        "id": "ipLcBDcNnrUv"
      },
      "source": [
        ""
      ],
      "execution_count": null,
      "outputs": []
    }
  ]
}